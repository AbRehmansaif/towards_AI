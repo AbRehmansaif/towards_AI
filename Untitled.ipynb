{
 "cells": [
  {
   "cell_type": "markdown",
   "id": "b827136a-b518-4efb-a7d4-57bf5c586101",
   "metadata": {},
   "source": [
    "Python"
   ]
  },
  {
   "cell_type": "markdown",
   "id": "28130790-e4b2-46f5-abbc-16aec237e264",
   "metadata": {},
   "source": [
    "\n",
    "# String"
   ]
  },
  {
   "cell_type": "code",
   "execution_count": 25,
   "id": "8c141bc0",
   "metadata": {},
   "outputs": [
    {
     "name": "stdout",
     "output_type": "stream",
     "text": [
      "new Hey Johan how are you my name is Abdul Rehman.\n"
     ]
    },
    {
     "data": {
      "text/plain": [
       "['Hey', 'Johan', 'how', 'are', 'you', 'my', 'name', 'is', 'Abdul', 'Rehman.']"
      ]
     },
     "execution_count": 25,
     "metadata": {},
     "output_type": "execute_result"
    }
   ],
   "source": [
    "name = \"Hey Johan how are you my name is Abdul Rehman.\"\n",
    "name.upper()\n",
    "name.lower()\n",
    "name.capitalize()\n",
    "name.find(\"Johan\")\n",
    "name.replace(\"Johan\", \"Ayan\")\n",
    "name.count(\"A\")\n",
    "name[0:3]\n",
    "newName = \"new \" + name\n",
    "print(newName)\n",
    "name.split()\n"
   ]
  },
  {
   "cell_type": "markdown",
   "id": "cadf2969",
   "metadata": {},
   "source": [
    "# RegEx\n",
    "### In Python, RegEx (short for Regular Expression) is a tool for matching and handling strings.\n",
    "### This RegEx module provides several functions for working with regular expressions, including search, split, findall, and sub."
   ]
  },
  {
   "cell_type": "code",
   "execution_count": 31,
   "id": "a714a8a8",
   "metadata": {},
   "outputs": [
    {
     "name": "stdout",
     "output_type": "stream",
     "text": [
      "Match\n",
      "Your Match word is  Rehman\n"
     ]
    }
   ],
   "source": [
    "import re\n",
    "s1 = \"Abdul Rehman is a Software Engineer\"\n",
    "pattern=\"Rehman\"\n",
    "\n",
    "result = re.search(pattern, s1)\n",
    "\n",
    "if result:\n",
    "    print(\"Match\")\n",
    "else:\n",
    "    print(\"Not Match\")\n",
    "    \n",
    "print(\"Your Match word is \", result.group())"
   ]
  }
 ],
 "metadata": {
  "kernelspec": {
   "display_name": "Python 3 (ipykernel)",
   "language": "python",
   "name": "python3"
  },
  "language_info": {
   "codemirror_mode": {
    "name": "ipython",
    "version": 3
   },
   "file_extension": ".py",
   "mimetype": "text/x-python",
   "name": "python",
   "nbconvert_exporter": "python",
   "pygments_lexer": "ipython3",
   "version": "3.12.4"
  }
 },
 "nbformat": 4,
 "nbformat_minor": 5
}
